{
 "cells": [
  {
   "cell_type": "code",
   "execution_count": 1,
   "id": "28f8a46b-1981-4704-b17c-78af49e8c919",
   "metadata": {},
   "outputs": [],
   "source": [
    "import matplotlib.pyplot as plt\n",
    "import numpy as np\n",
    "\n",
    "%matplotlib inline"
   ]
  },
  {
   "cell_type": "code",
   "execution_count": 85,
   "id": "0e825fc3-551d-4b02-9022-daa42e5299b2",
   "metadata": {},
   "outputs": [
    {
     "name": "stdout",
     "output_type": "stream",
     "text": [
      "[0 0 0] [1.66666667 0.         0.        ] [1.33333333 2.         0.        ] [3 2 0]\n"
     ]
    }
   ],
   "source": [
    "def p(t, c0, c1, c2, c3):\n",
    "    t0 = (1 - t)**3\n",
    "    t1 = 3 * t * (1 - t)**2\n",
    "    t2 = 3 * (t**2) * (1 - t)\n",
    "    t3 = t**3\n",
    "    # print(t0, t1, t2, t3)\n",
    "    return t0*c0 + t1*c1 + t2*c2 + t3*c3\n",
    "\n",
    "k = 3\n",
    "b = 2\n",
    "normal_multiplier = 5\n",
    "c0 = np.array([0, 0, 0])\n",
    "c1 = np.array([normal_multiplier/3, 0, 0])\n",
    "c2 = np.array([k - normal_multiplier/3, b, 0])\n",
    "c3 = np.array([k, b, 0])\n",
    "print(c0, c1, c2, c3)"
   ]
  },
  {
   "cell_type": "code",
   "execution_count": 86,
   "id": "337bd048-7311-4b89-997b-d756e5827695",
   "metadata": {},
   "outputs": [
    {
     "data": {
      "text/plain": [
       "array([1.5, 1. , 0. ])"
      ]
     },
     "execution_count": 86,
     "metadata": {},
     "output_type": "execute_result"
    }
   ],
   "source": [
    "p(0.5, c0, c1, c2, c3)"
   ]
  },
  {
   "cell_type": "code",
   "execution_count": 87,
   "id": "e14e52ad-fe76-4ac2-a16f-4ab2d97b7806",
   "metadata": {},
   "outputs": [
    {
     "data": {
      "image/png": "[encoded data removed]",
      "text/plain": [
       "<Figure size 432x288 with 1 Axes>"
      ]
     },
     "metadata": {
      "needs_background": "light"
     },
     "output_type": "display_data"
    }
   ],
   "source": [
    "tt = np.linspace(0, 1, 101)\n",
    "pt = np.array([p(t, c0, c1, c2, c3) for t in tt])\n",
    "\n",
    "fig, ax = plt.subplots()\n",
    "ax.set_aspect(aspect=1)\n",
    "# ax.scatter(pt[:, 0], pt[:, 1])\n",
    "ax.plot(pt[:, 0], pt[:, 1]);\n",
    "# ax.set_xlim(0, 0.5)\n",
    "# ax.set_ylim(0, 0.53)"
   ]
  },
  {
   "cell_type": "code",
   "execution_count": null,
   "id": "9e4e6a42-d973-41fb-afd2-39896e025882",
   "metadata": {},
   "outputs": [],
   "source": []
  }
 ],
 "metadata": {
  "kernelspec": {
   "display_name": "anaconda_2022_05",
   "language": "python",
   "name": "anaconda_2022_05"
  },
  "language_info": {
   "codemirror_mode": {
    "name": "ipython",
    "version": 3
   },
   "file_extension": ".py",
   "mimetype": "text/x-python",
   "name": "python",
   "nbconvert_exporter": "python",
   "pygments_lexer": "ipython3",
   "version": "3.8.13"
  }
 },
 "nbformat": 4,
 "nbformat_minor": 5
}
